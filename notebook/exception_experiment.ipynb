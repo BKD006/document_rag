{
 "cells": [
  {
   "cell_type": "code",
   "execution_count": 1,
   "id": "ad0f5eb0",
   "metadata": {},
   "outputs": [
    {
     "name": "stdout",
     "output_type": "stream",
     "text": [
      "all okay\n"
     ]
    }
   ],
   "source": [
    "print(\"all okay\")"
   ]
  },
  {
   "cell_type": "code",
   "execution_count": 8,
   "id": "e938fd86",
   "metadata": {},
   "outputs": [],
   "source": [
    "from logger.custom_logger import CustomLogger\n",
    "logger=CustomLogger().get_logger(\"exeception_experiment\")"
   ]
  },
  {
   "cell_type": "code",
   "execution_count": 9,
   "id": "59d42653",
   "metadata": {},
   "outputs": [
    {
     "ename": "DocumentalRagException",
     "evalue": "\n            Error in [C:\\Users\\birok\\AppData\\Local\\Temp\\ipykernel_16036\\2595543530.py] at line [20]\n            Message: division by zero\n            Traceback:\n            Traceback (most recent call last):\n  File \"C:\\Users\\birok\\AppData\\Local\\Temp\\ipykernel_16036\\2595543530.py\", line 20, in <module>\n    a = 1/0\nZeroDivisionError: division by zero\n",
     "output_type": "error",
     "traceback": [
      "\u001b[1;31m---------------------------------------------------------------------------\u001b[0m",
      "\u001b[1;31mZeroDivisionError\u001b[0m                         Traceback (most recent call last)",
      "Cell \u001b[1;32mIn[9], line 20\u001b[0m\n\u001b[0;32m     19\u001b[0m \u001b[38;5;28;01mtry\u001b[39;00m:\n\u001b[1;32m---> 20\u001b[0m     a \u001b[38;5;241m=\u001b[39m \u001b[38;5;241;43m1\u001b[39;49m\u001b[38;5;241;43m/\u001b[39;49m\u001b[38;5;241;43m0\u001b[39;49m\n\u001b[0;32m     21\u001b[0m     \u001b[38;5;28mprint\u001b[39m(a)\n",
      "\u001b[1;31mZeroDivisionError\u001b[0m: division by zero",
      "\nDuring handling of the above exception, another exception occurred:\n",
      "\u001b[1;31mDocumentalRagException\u001b[0m                    Traceback (most recent call last)",
      "Cell \u001b[1;32mIn[9], line 25\u001b[0m\n\u001b[0;32m     23\u001b[0m app_exc\u001b[38;5;241m=\u001b[39mDocumentalRagException(e, sys)\n\u001b[0;32m     24\u001b[0m logger\u001b[38;5;241m.\u001b[39merror(app_exc)\n\u001b[1;32m---> 25\u001b[0m \u001b[38;5;28;01mraise\u001b[39;00m app_exc\n",
      "\u001b[1;31mDocumentalRagException\u001b[0m: \n            Error in [C:\\Users\\birok\\AppData\\Local\\Temp\\ipykernel_16036\\2595543530.py] at line [20]\n            Message: division by zero\n            Traceback:\n            Traceback (most recent call last):\n  File \"C:\\Users\\birok\\AppData\\Local\\Temp\\ipykernel_16036\\2595543530.py\", line 20, in <module>\n    a = 1/0\nZeroDivisionError: division by zero\n"
     ]
    }
   ],
   "source": [
    "import sys\n",
    "import traceback\n",
    "class DocumentalRagException(Exception):\n",
    "    \"\"\"Custom exception for Document Portal\"\"\"\n",
    "    def __init__(self, error_message:str, error_details: sys):\n",
    "        _,_,exc_tb=error_details.exc_info() ## exc_info will provide execution details\n",
    "        self.file_name=exc_tb.tb_frame.f_code.co_filename\n",
    "        self.line_number=exc_tb.tb_lineno\n",
    "        self.error_message=str(error_message)\n",
    "        self.traceback_str=''.join(traceback.format_exception(*error_details.exc_info()))\n",
    "    def __str__(self):\n",
    "        return f\"\"\"\n",
    "            Error in [{self.file_name}] at line [{self.line_number}]\n",
    "            Message: {self.error_message}\n",
    "            Traceback:\n",
    "            {self.traceback_str}\"\"\"\n",
    "\n",
    "if __name__==\"__main__\":\n",
    "    try:\n",
    "        a = 1/0\n",
    "        print(a)\n",
    "    except Exception as e:\n",
    "        app_exc=DocumentalRagException(e, sys)\n",
    "        logger.error(app_exc)\n",
    "        raise app_exc"
   ]
  },
  {
   "cell_type": "code",
   "execution_count": null,
   "id": "c31526f0",
   "metadata": {},
   "outputs": [],
   "source": []
  }
 ],
 "metadata": {
  "kernelspec": {
   "display_name": "Python 3",
   "language": "python",
   "name": "python3"
  },
  "language_info": {
   "codemirror_mode": {
    "name": "ipython",
    "version": 3
   },
   "file_extension": ".py",
   "mimetype": "text/x-python",
   "name": "python",
   "nbconvert_exporter": "python",
   "pygments_lexer": "ipython3",
   "version": "3.10.18"
  }
 },
 "nbformat": 4,
 "nbformat_minor": 5
}
